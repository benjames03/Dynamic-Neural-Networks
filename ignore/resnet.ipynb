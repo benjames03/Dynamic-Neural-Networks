{
 "cells": [
  {
   "cell_type": "code",
   "execution_count": 1,
   "metadata": {},
   "outputs": [],
   "source": [
    "import torch\n",
    "import torchvision\n",
    "import numpy as np\n",
    "from torch import nn\n",
    "from torch.utils.data import DataLoader\n",
    "from torchvision import datasets\n",
    "from torchvision.transforms import ToTensor, Compose, Normalize, Resize\n",
    "# import matplotlib.pyplot as plt"
   ]
  },
  {
   "cell_type": "code",
   "execution_count": 2,
   "metadata": {},
   "outputs": [
    {
     "name": "stdout",
     "output_type": "stream",
     "text": [
      "Files already downloaded and verified\n",
      "Files already downloaded and verified\n"
     ]
    }
   ],
   "source": [
    "# Convert to tensors and normalize\n",
    "transform = Compose([\n",
    "    Resize((32, 32)),\n",
    "    ToTensor(),\n",
    "    Normalize((0.5, 0.5, 0.5), (0.5, 0.5, 0.5))\n",
    "])\n",
    "\n",
    "# Download training data from open datasets.\n",
    "training_data = datasets.CIFAR10(\n",
    "    root=\"datasets/cifar10\",\n",
    "    train=True,\n",
    "    download=True,\n",
    "    transform=transform,\n",
    ")\n",
    "\n",
    "# Download test data from open datasets.\n",
    "test_data = datasets.CIFAR10(\n",
    "    root=\"datasets/cifar10\",\n",
    "    train=False,\n",
    "    download=True,\n",
    "    transform=transform,\n",
    ")"
   ]
  },
  {
   "cell_type": "code",
   "execution_count": 3,
   "metadata": {},
   "outputs": [],
   "source": [
    "# Create data loaders\n",
    "BATCH_SIZE = 32\n",
    "\n",
    "train_dataloader = DataLoader(training_data, batch_size=BATCH_SIZE, shuffle=True)\n",
    "test_dataloader = DataLoader(test_data, batch_size=BATCH_SIZE, shuffle=True)"
   ]
  },
  {
   "cell_type": "code",
   "execution_count": 4,
   "metadata": {},
   "outputs": [],
   "source": [
    "class Block(nn.Module):\n",
    "    def __init__(self, in_channels, out_channels, stride=1):\n",
    "        super(Block, self).__init__()\n",
    "        self.conv1 = nn.Conv2d(in_channels, out_channels, kernel_size=3, stride=stride, padding=1, bias=False)\n",
    "        self.bn1 = nn.BatchNorm2d(out_channels)\n",
    "        self.relu = nn.ReLU(inplace=True)\n",
    "        self.conv2 = nn.Conv2d(out_channels, out_channels, kernel_size=3, stride=1, padding=1, bias=False)\n",
    "        self.bn2 = nn.BatchNorm2d(out_channels)\n",
    "        \n",
    "        self.shortcut = nn.Sequential()\n",
    "        if stride != 1 or in_channels != out_channels:\n",
    "            self.shortcut = nn.Sequential(\n",
    "                nn.Conv2d(in_channels, out_channels, kernel_size=1, stride=stride, bias=False),\n",
    "                nn.BatchNorm2d(out_channels)\n",
    "            )\n",
    "\n",
    "    def forward(self, x):\n",
    "        out = self.conv1(x)\n",
    "        out = self.bn1(out)\n",
    "        out = self.relu(out)\n",
    "        out = self.conv2(out)\n",
    "        out = self.bn2(out)\n",
    "        out += self.shortcut(x)\n",
    "        out = self.relu(out)\n",
    "        return out\n",
    "\n",
    "class ResNet18(nn.Module):\n",
    "    def __init__(self, num_classes=10):\n",
    "        super(ResNet18, self).__init__()\n",
    "        self.in_channels = 64\n",
    "        self.conv1 = nn.Conv2d(3, 64, kernel_size=3, stride=1, padding=1, bias=False)\n",
    "        self.bn1 = nn.BatchNorm2d(64)\n",
    "        self.relu = nn.ReLU(inplace=True)\n",
    "        self.maxpool = nn.MaxPool2d(kernel_size=3, stride=2, padding=1)\n",
    "        \n",
    "        self.layer1 = self._make_layer(Block, 64, 2, stride=1)\n",
    "        self.layer2 = self._make_layer(Block, 128, 2, stride=2)\n",
    "        self.layer3 = self._make_layer(Block, 256, 2, stride=2)\n",
    "        self.layer4 = self._make_layer(Block, 512, 2, stride=2)\n",
    "        \n",
    "        self.avgpool = nn.AdaptiveAvgPool2d((1, 1))\n",
    "        self.fc = nn.Linear(512, num_classes)\n",
    "\n",
    "    def _make_layer(self, block, out_channels, num_blocks, stride):\n",
    "        strides = [stride] + [1] * (num_blocks - 1)\n",
    "        layers = []\n",
    "        for stride in strides:\n",
    "            layers.append(block(self.in_channels, out_channels, stride))\n",
    "            self.in_channels = out_channels\n",
    "        return nn.Sequential(*layers)\n",
    "\n",
    "    def forward(self, x):\n",
    "        out = self.conv1(x)\n",
    "        out = self.bn1(out)\n",
    "        out = self.relu(out)\n",
    "        out = self.maxpool(out)\n",
    "        \n",
    "        out = self.layer1(out)\n",
    "        out = self.layer2(out)\n",
    "        out = self.layer3(out)\n",
    "        out = self.layer4(out)\n",
    "        \n",
    "        out = self.avgpool(out)\n",
    "        out = out.view(out.size(0), -1)\n",
    "        out = self.fc(out)\n",
    "        return out"
   ]
  },
  {
   "cell_type": "code",
   "execution_count": 5,
   "metadata": {},
   "outputs": [],
   "source": [
    "def train(dataloader, model, loss_function, optimizer):\n",
    "    # model.train()\n",
    "    running_loss = 0.0\n",
    "    for _, (X, y) in enumerate(dataloader):\n",
    "        X, y = X.to(\"cpu\"), y.to(\"cpu\")\n",
    "        optimizer.zero_grad()\n",
    "\n",
    "        pred = model(X)\n",
    "        loss = loss_function(pred, y)\n",
    "\n",
    "        loss.backward()\n",
    "        optimizer.step()\n",
    "        running_loss += loss.item()\n",
    "    print(f\"Training loss: {running_loss / len(dataloader)}\")\n",
    "\n",
    "def test(dataloader, model, loss_function):\n",
    "    size = len(dataloader.dataset)\n",
    "    num_batches = len(dataloader)\n",
    "    # model.eval()\n",
    "    test_loss, correct = 0, 0\n",
    "    with torch.no_grad():\n",
    "        for X, y in dataloader:\n",
    "            X, y = X.to(\"cpu\"), y.to(\"cpu\")\n",
    "            pred = model(X)\n",
    "            test_loss += loss_function(pred, y).item()\n",
    "            correct += (pred.argmax(1) == y).type(torch.float).sum().item()\n",
    "    test_loss /= num_batches\n",
    "    correct /= size\n",
    "    return correct, test_loss"
   ]
  },
  {
   "cell_type": "code",
   "execution_count": 6,
   "metadata": {},
   "outputs": [
    {
     "name": "stdout",
     "output_type": "stream",
     "text": [
      "-------------------------------\n",
      "Epoch 1\n",
      "Training loss: 1.244345134561518\n",
      "Accuracy: 66.6%, Avg loss: 0.948033\n",
      "-------------------------------\n",
      "Epoch 2\n",
      "Training loss: 0.8035291257151715\n",
      "Accuracy: 71.7%, Avg loss: 0.806491\n",
      "-------------------------------\n",
      "Epoch 3\n",
      "Training loss: 0.5871629234086376\n",
      "Accuracy: 74.9%, Avg loss: 0.737363\n",
      "-------------------------------\n",
      "Epoch 4\n",
      "Training loss: 0.4431214547088645\n",
      "Accuracy: 75.8%, Avg loss: 0.739565\n",
      "-------------------------------\n",
      "Epoch 5\n",
      "Training loss: 0.31633745472322883\n",
      "Accuracy: 76.2%, Avg loss: 0.772278\n",
      "-------------------------------\n",
      "Epoch 6\n",
      "Training loss: 0.22506103076288622\n",
      "Accuracy: 77.9%, Avg loss: 0.768082\n",
      "-------------------------------\n",
      "Epoch 7\n",
      "Training loss: 0.15845616323717288\n",
      "Accuracy: 77.5%, Avg loss: 0.842494\n",
      "-------------------------------\n",
      "Epoch 8\n",
      "Training loss: 0.1257612915055365\n",
      "Accuracy: 76.7%, Avg loss: 0.912368\n",
      "-------------------------------\n",
      "Epoch 9\n",
      "Training loss: 0.0882571160481076\n",
      "Accuracy: 77.7%, Avg loss: 0.938873\n",
      "-------------------------------\n",
      "Epoch 10\n",
      "Training loss: 0.07906014778828863\n",
      "Accuracy: 77.5%, Avg loss: 0.966838\n"
     ]
    }
   ],
   "source": [
    "model = ResNet18()\n",
    "loss_function = nn.CrossEntropyLoss()\n",
    "optimizer = torch.optim.SGD(model.parameters(), lr=0.001, momentum=0.9)\n",
    "\n",
    "epochs = 10\n",
    "acc, loss = [], []\n",
    "for epoch in range(epochs):\n",
    "    print(f\"-------------------------------\\nEpoch {epoch+1}\")\n",
    "    train(train_dataloader, model, loss_function, optimizer)\n",
    "    temp_acc, temp_loss = test(test_dataloader, model, loss_function)\n",
    "    acc.append(temp_acc)\n",
    "    loss.append(temp_loss)\n",
    "    print(f\"Accuracy: {(100*temp_acc):>0.1f}%, Avg loss: {temp_loss:>8f}\")"
   ]
  },
  {
   "cell_type": "code",
   "execution_count": 7,
   "metadata": {},
   "outputs": [],
   "source": [
    "# fig, (ax1, ax2) = plt.subplots(1, 2, figsize=(10, 4))\n",
    "\n",
    "# ax1.plot(np.arange(1, epochs+1), acc, color=\"blue\", marker=\"o\")\n",
    "# ax1.set_title(\"Accuracy over epochs\")\n",
    "# ax1.set_xlabel(\"Epochs\")\n",
    "# ax1.set_ylabel(\"Accuracy\")\n",
    "\n",
    "# ax2.plot(np.arange(1, epochs+1), loss, color=\"red\", marker=\"o\")\n",
    "# ax2.set_title(\"Loss over epochs\")\n",
    "# ax2.set_xlabel(\"Epochs\")\n",
    "# ax2.set_ylabel(\"Loss\")\n",
    "\n",
    "# plt.tight_layout()\n",
    "# plt.show()"
   ]
  },
  {
   "cell_type": "code",
   "execution_count": 8,
   "metadata": {},
   "outputs": [
    {
     "data": {
      "text/plain": [
       "'\\ndef classify(model, image):\\n    diff = infinity\\n    while diff > threshold:\\n        values = model.predict(image)\\n        top2 = values.sort()[0:2]\\n        diff = abs(top2[0] - top2[1])\\n        model.add_layer() / model.switch()\\n'"
      ]
     },
     "execution_count": 8,
     "metadata": {},
     "output_type": "execute_result"
    }
   ],
   "source": [
    "'''\n",
    "def classify(model, image):\n",
    "    diff = infinity\n",
    "    while diff > threshold:\n",
    "        values = model.predict(image)\n",
    "        top2 = values.sort()[0:2]\n",
    "        diff = abs(top2[0] - top2[1])\n",
    "        model.add_layer() / model.switch()\n",
    "'''"
   ]
  }
 ],
 "metadata": {
  "kernelspec": {
   "display_name": "Python 3",
   "language": "python",
   "name": "python3"
  },
  "language_info": {
   "codemirror_mode": {
    "name": "ipython",
    "version": 3
   },
   "file_extension": ".py",
   "mimetype": "text/x-python",
   "name": "python",
   "nbconvert_exporter": "python",
   "pygments_lexer": "ipython3",
   "version": "3.10.12"
  }
 },
 "nbformat": 4,
 "nbformat_minor": 2
}
